{
 "cells": [
  {
   "cell_type": "code",
   "execution_count": 1,
   "id": "e974899b-deed-4864-95ce-849effc05987",
   "metadata": {},
   "outputs": [],
   "source": [
    "import torch\n",
    "import torch.nn as nn\n",
    "import torch.nn.parallel\n",
    "import torch.backends.cudnn as cudnn\n",
    "import torch.optim as optim\n",
    "import torch.utils.data\n",
    "from torch.utils.data import Dataset\n",
    "import torchvision.datasets as dset\n",
    "import torchvision.transforms as transforms\n",
    "import torchvision.utils as vutils\n",
    "import numpy as np\n",
    "import matplotlib.pyplot as plt\n",
    "import matplotlib.animation as animation\n",
    "from IPython.display import HTML\n",
    "import pandas as pd \n",
    "\n",
    "\n",
    "import torch.nn.functional as F"
   ]
  },
  {
   "cell_type": "markdown",
   "id": "1ccbfa8c-9095-40a3-934a-3cf8ea8e8833",
   "metadata": {},
   "source": [
    "## Load data"
   ]
  },
  {
   "cell_type": "code",
   "execution_count": 2,
   "id": "0b039065-319a-4d4f-8208-0a0120b4e4ed",
   "metadata": {},
   "outputs": [],
   "source": [
    "#/Users/laurabraadrasmussen/Documents/UNI/5. semester/Deep Learning/Projekt/Data\n",
    "train_data_without = pd.read_csv('../Data/training.csv')\n",
    "test_data = pd.read_csv('../Data/test.csv')\n",
    "id_lookup_data = pd.read_csv('../Data/IdLookupTable.csv')\n",
    "train_data = pd.read_csv('../Data/training_with_aug.csv')\n"
   ]
  },
  {
   "cell_type": "code",
   "execution_count": 3,
   "id": "45470210-ea43-432b-9cc5-461b9360d78b",
   "metadata": {},
   "outputs": [],
   "source": [
    "train_data = train_data.drop('Unnamed: 0', axis = 1)"
   ]
  },
  {
   "cell_type": "code",
   "execution_count": 26,
   "id": "f0628ff1-879a-4d03-8bdd-669e5242977c",
   "metadata": {},
   "outputs": [
    {
     "data": {
      "text/plain": [
       "1783"
      ]
     },
     "execution_count": 26,
     "metadata": {},
     "output_type": "execute_result"
    }
   ],
   "source": [
    "len(test_data)"
   ]
  },
  {
   "cell_type": "code",
   "execution_count": 5,
   "id": "17b79c91-7e7f-4377-a0d1-b517905fef13",
   "metadata": {},
   "outputs": [
    {
     "data": {
      "image/png": "[encoded data removed]",
      "text/plain": [
       "<Figure size 640x480 with 1 Axes>"
      ]
     },
     "metadata": {},
     "output_type": "display_data"
    }
   ],
   "source": [
    "def get_image_and_keypoints(series):\n",
    "    image = series['Image']\n",
    "    image = np.fromstring(image, sep=' ').reshape([96, 96]) / 255.0\n",
    "    keypoints = pd.DataFrame(series).drop(['Image'], axis=0).values.reshape([15, 2])\n",
    "    return image, keypoints\n",
    "\n",
    "def get_image_and_keypoints_by_id(train_data, id):\n",
    "    series = train_data.iloc[id]\n",
    "    return get_image_and_keypoints(series)\n",
    "\n",
    "\n",
    "def show_image_with_keypoints(series):\n",
    "    image, keypoints = get_image_and_keypoints(series)\n",
    "    plt.imshow(image, cmap='gray')\n",
    "    plt.plot(keypoints[:, 0], keypoints[:, 1], 'rs')\n",
    "\n",
    "\n",
    "def show_image_with_keypoints_by_id(train_data, id):\n",
    "    series = train_data.iloc[id]\n",
    "    show_image_with_keypoints(series)\n",
    "    \n",
    "show_image_with_keypoints_by_id(train_data, 4)"
   ]
  },
  {
   "cell_type": "markdown",
   "id": "64279b3d-2f53-4fd7-920d-09a477030b92",
   "metadata": {},
   "source": [
    "## Data preprocessing"
   ]
  },
  {
   "cell_type": "code",
   "execution_count": 6,
   "id": "35498135-d49e-4168-a519-a38cb9d4f23b",
   "metadata": {},
   "outputs": [
    {
     "data": {
      "text/plain": [
       "5005"
      ]
     },
     "execution_count": 6,
     "metadata": {},
     "output_type": "execute_result"
    }
   ],
   "source": [
    "# Fjerner NA i dataset\n",
    "train_data = train_data.dropna()\n",
    "len(train_data)"
   ]
  },
  {
   "cell_type": "code",
   "execution_count": 7,
   "id": "b48f31cb-cafd-4298-a7d5-feea8a609266",
   "metadata": {},
   "outputs": [],
   "source": [
    "# 200 random samples\n",
    "train_data_200 = train_data.sample(n = 1500)"
   ]
  },
  {
   "cell_type": "code",
   "execution_count": 8,
   "id": "cd880dc2-6b65-4d12-a972-e40216a0db5d",
   "metadata": {},
   "outputs": [],
   "source": [
    "#train_data_200[:1].left_eye_center_x"
   ]
  },
  {
   "cell_type": "code",
   "execution_count": 9,
   "id": "7a63b6ad-7b33-400b-9c44-a083ac0a25a1",
   "metadata": {},
   "outputs": [],
   "source": [
    "#train_data_200.iloc[8]"
   ]
  },
  {
   "cell_type": "markdown",
   "id": "e4d12ee5-6b0b-48c2-8e43-3e6d90bc89ed",
   "metadata": {},
   "source": [
    "\n",
    "## Model"
   ]
  },
  {
   "cell_type": "code",
   "execution_count": 10,
   "id": "65665666-fc57-4517-80b8-59803b0fd536",
   "metadata": {},
   "outputs": [],
   "source": [
    "#make data iterator for spiral dataset\n",
    "\n",
    "class imageDataset(Dataset):\n",
    " \n",
    "  def __init__(self, file_name):\n",
    "    labels=[file_name.iloc[i].values[0:30] for i in range(len(train_data_200))]\n",
    "    inputs=[file_name.iloc[i].values[30:31] for i in range(len(train_data_200))]\n",
    "    \n",
    "    inputs = [(i[0].split()) for i in inputs]\n",
    "    inputs = [[int(i) for i in j] for j in inputs] \n",
    "    inputs = [np.reshape(i, (96,96)) for i in inputs]\n",
    "    inputs = [np.expand_dims(i,0) for i in inputs]\n",
    "    \n",
    "    \n",
    "    \n",
    "    #print(inputs[0])\n",
    "    #print(type(inputs[1]))\n",
    "    self.labels=torch.tensor(labels,dtype=torch.float32) #convert to torch floats otherwise \n",
    "    self.inputs=torch.tensor(inputs, dtype=torch.float) #we will get an error message\n",
    " \n",
    "  def __len__(self):\n",
    "    return len(self.labels)\n",
    "   \n",
    "  def __getitem__(self, idx):\n",
    "    return self.inputs[idx], self.labels[idx]\n",
    "    \n",
    "\n"
   ]
  },
  {
   "cell_type": "code",
   "execution_count": 11,
   "id": "114946a7-1c91-4bc0-a96e-ae771e0b35a9",
   "metadata": {},
   "outputs": [
    {
     "name": "stderr",
     "output_type": "stream",
     "text": [
      "/Users/laurabraadrasmussen/opt/anaconda3/envs/slml/lib/python3.7/site-packages/ipykernel_launcher.py:18: UserWarning: Creating a tensor from a list of numpy.ndarrays is extremely slow. Please consider converting the list to a single numpy.ndarray with numpy.array() before converting to a tensor. (Triggered internally at  /private/var/folders/sy/f16zz6x50xz3113nwtb9bvq00000gp/T/abs_croot-udngs7fm/pytorch_1648016055234/work/torch/csrc/utils/tensor_new.cpp:201.)\n"
     ]
    }
   ],
   "source": [
    "data = imageDataset(train_data_200)"
   ]
  },
  {
   "cell_type": "code",
   "execution_count": 12,
   "id": "1ab67e35-25b4-4cb3-a5d0-9f557ea4e7c6",
   "metadata": {},
   "outputs": [],
   "source": [
    "batch_size = 100\n",
    "#Convert to tensors\n",
    "x_train = data.inputs\n",
    "y_train = data.labels\n",
    "\n",
    "trainset = torch.utils.data.TensorDataset(x_train, y_train)\n",
    "trainloader = torch.utils.data.DataLoader(trainset, batch_size=batch_size, shuffle=True)\n",
    "\n",
    "#testset = torch.utils.data.TensorDataset(x_test, y_test)\n",
    "#testloader = torch.utils.data.DataLoader(testset, batch_size=batch_size)"
   ]
  },
  {
   "cell_type": "code",
   "execution_count": 13,
   "id": "064cc0f1-dc94-4f9b-b56d-9046a5a3a4d4",
   "metadata": {},
   "outputs": [
    {
     "name": "stdout",
     "output_type": "stream",
     "text": [
      "input_shape : torch.Size([1, 96, 96])\n",
      "x_train shape: torch.Size([1500, 1, 96, 96])\n",
      "1500 train samples\n",
      "y_train shape: torch.Size([1500, 30])\n"
     ]
    }
   ],
   "source": [
    "input_shape = x_train[0].shape\n",
    "print('input_shape :',input_shape)\n",
    "\n",
    "print('x_train shape:', x_train.shape)\n",
    "print(x_train.shape[0], 'train samples')\n",
    "#print(x_test.shape[0], 'test samples')\n",
    "\n",
    "# to_categorical converts class indices to one-hot vectors\n",
    "print('y_train shape:', y_train.shape)"
   ]
  },
  {
   "cell_type": "code",
   "execution_count": 14,
   "id": "814c4ecb-fcd1-4731-85da-66ab186bd2b1",
   "metadata": {},
   "outputs": [],
   "source": [
    "#%% make network\n",
    "num_classes = 30\n",
    "\n",
    "\n",
    "#something simple like cnn-cnn-fc-relu-fc will do\n",
    "\n",
    "# define network\n",
    "class NeuralNetwork(nn.Module):\n",
    "    def __init__(self):\n",
    "        super().__init__()\n",
    "        self.relu = torch.relu\n",
    "        \n",
    "        self.conv1 = nn.Conv2d(in_channels=1, out_channels=4, kernel_size=3, padding='same')\n",
    "        self.conv2 = nn.Conv2d(in_channels=4, out_channels=16,kernel_size=3,padding='same')\n",
    "        self.bn1 = nn.BatchNorm2d(16)\n",
    "        \n",
    "        self.conv3 = nn.Conv2d(in_channels=16, out_channels=32, kernel_size=3)\n",
    "        self.conv4 = nn.Conv2d(in_channels=32, out_channels=64,kernel_size=3)\n",
    "        self.bn2 = nn.BatchNorm2d(64)\n",
    "        \n",
    "        self.conv5 = nn.Conv2d(in_channels=64, out_channels=128, kernel_size=5)\n",
    "        self.conv6 = nn.Conv2d(in_channels=128, out_channels=256,kernel_size=5)\n",
    "        self.bn3 = nn.BatchNorm2d(256)\n",
    "        \n",
    "        self.conv7 = nn.Conv2d(in_channels=256, out_channels=512, kernel_size=3)\n",
    "        self.conv8 = nn.Conv2d(in_channels=512, out_channels=1024,kernel_size=3)\n",
    "        self.bn4 = nn.BatchNorm2d(1024)\n",
    "        \n",
    "        self.fc1 = nn.Linear(9216, 1024)\n",
    "        self.FC1 = nn.Linear(1024, 256)  \n",
    "        self.FC2 = nn.Linear(256, num_classes)  \n",
    "        \n",
    "    def forward(self, x):\n",
    "        x = self.conv1(x)\n",
    "        x = F.relu(x)\n",
    "        x = self.conv2(x)\n",
    "        x = F.relu(x)\n",
    "        x = self.bn1(x)\n",
    "        x = F.max_pool2d(x, kernel_size=2)\n",
    "        \n",
    "        x = self.conv3(x)\n",
    "        x = F.relu(x)\n",
    "        x = self.conv4(x)\n",
    "        x = F.relu(x)\n",
    "        x = self.bn2(x)\n",
    "        x = F.max_pool2d(x, kernel_size=2)\n",
    "        \n",
    "        x = self.conv5(x)\n",
    "        x = F.relu(x)\n",
    "        x = self.conv6(x)\n",
    "        x = F.relu(x)\n",
    "        x = self.bn3(x)\n",
    "        x = F.max_pool2d(x, kernel_size=2)\n",
    "    \n",
    "        x = self.conv7(x)\n",
    "        x = F.relu(x)\n",
    "        x = self.conv8(x)\n",
    "        x = F.relu(x)\n",
    "        x = self.bn4(x)\n",
    "        \n",
    "        x = x.view(x.shape[0],-1)\n",
    "        \n",
    "        x = self.fc1(x)\n",
    "\n",
    "        x = self.FC1(x)\n",
    "        x = self.FC2(x)\n",
    "        \n",
    "        return x\n",
    "\n",
    "net = NeuralNetwork()"
   ]
  },
  {
   "cell_type": "code",
   "execution_count": 15,
   "id": "a2184d95-af23-4e16-b793-f5feaea59505",
   "metadata": {},
   "outputs": [
    {
     "name": "stdout",
     "output_type": "stream",
     "text": [
      "Epoch 1, Train loss: 114.253\n",
      "Epoch 2, Train loss: 20.475\n",
      "Epoch 3, Train loss: 16.672\n",
      "Epoch 4, Train loss: 15.210\n",
      "Epoch 5, Train loss: 14.181\n",
      "Epoch 6, Train loss: 14.720\n",
      "Epoch 7, Train loss: 16.291\n",
      "Epoch 8, Train loss: 12.450\n",
      "Epoch 9, Train loss: 10.751\n",
      "Epoch 10, Train loss: 10.392\n",
      "Epoch 11, Train loss: 8.878\n",
      "Epoch 12, Train loss: 7.197\n",
      "Epoch 13, Train loss: 5.089\n",
      "Epoch 14, Train loss: 4.182\n",
      "Epoch 15, Train loss: 4.025\n",
      "Epoch 16, Train loss: 3.235\n",
      "Epoch 17, Train loss: 3.635\n",
      "Epoch 18, Train loss: 2.665\n",
      "Epoch 19, Train loss: 2.042\n",
      "Epoch 20, Train loss: 2.466\n",
      "Epoch 21, Train loss: 2.971\n",
      "Epoch 22, Train loss: 2.826\n",
      "Epoch 23, Train loss: 1.769\n",
      "Epoch 24, Train loss: 1.902\n",
      "Epoch 25, Train loss: 1.624\n",
      "Epoch 26, Train loss: 1.463\n",
      "Epoch 27, Train loss: 1.765\n",
      "Epoch 28, Train loss: 1.566\n",
      "Epoch 29, Train loss: 1.361\n",
      "Epoch 30, Train loss: 1.517\n",
      "Finished Training\n"
     ]
    },
    {
     "data": {
      "text/plain": [
       "NeuralNetwork(\n",
       "  (conv1): Conv2d(1, 4, kernel_size=(3, 3), stride=(1, 1), padding=same)\n",
       "  (conv2): Conv2d(4, 16, kernel_size=(3, 3), stride=(1, 1), padding=same)\n",
       "  (bn1): BatchNorm2d(16, eps=1e-05, momentum=0.1, affine=True, track_running_stats=True)\n",
       "  (conv3): Conv2d(16, 32, kernel_size=(3, 3), stride=(1, 1))\n",
       "  (conv4): Conv2d(32, 64, kernel_size=(3, 3), stride=(1, 1))\n",
       "  (bn2): BatchNorm2d(64, eps=1e-05, momentum=0.1, affine=True, track_running_stats=True)\n",
       "  (conv5): Conv2d(64, 128, kernel_size=(5, 5), stride=(1, 1))\n",
       "  (conv6): Conv2d(128, 256, kernel_size=(5, 5), stride=(1, 1))\n",
       "  (bn3): BatchNorm2d(256, eps=1e-05, momentum=0.1, affine=True, track_running_stats=True)\n",
       "  (conv7): Conv2d(256, 512, kernel_size=(3, 3), stride=(1, 1))\n",
       "  (conv8): Conv2d(512, 1024, kernel_size=(3, 3), stride=(1, 1))\n",
       "  (bn4): BatchNorm2d(1024, eps=1e-05, momentum=0.1, affine=True, track_running_stats=True)\n",
       "  (fc1): Linear(in_features=9216, out_features=1024, bias=True)\n",
       "  (FC1): Linear(in_features=1024, out_features=256, bias=True)\n",
       "  (FC2): Linear(in_features=256, out_features=30, bias=True)\n",
       ")"
      ]
     },
     "execution_count": 15,
     "metadata": {},
     "output_type": "execute_result"
    }
   ],
   "source": [
    "#criterion = nn.CrossEntropyLoss()\n",
    "criterion = nn.MSELoss()\n",
    "#optimizer = optim.SGD(fcn.parameters(), lr=0.1)\n",
    "optimizer = optim.Adam(net.parameters(), lr=0.001)\n",
    "#scheduler = torch.optim.lr_scheduler.StepLR(optimizer, step_size=2, gamma=0.5) # decrease LR every two steps\n",
    "\n",
    "nEpocs = 30 # How many times should we run over the data set?\n",
    "totaliter = 0\n",
    "net.train()\n",
    "for epoch in range(nEpocs):  # loop over the dataset multiple times\n",
    "    #print('epoch',epoch)\n",
    "    running_loss = 0.0\n",
    "    \n",
    "    #scheduler.step()\n",
    "    \n",
    "    for i, data in enumerate(trainloader, 0):\n",
    "        totaliter+=1\n",
    "        \n",
    "        # get the inputs; data is a list of [inputs, labels]\n",
    "        inputs, labels = data\n",
    "        \n",
    "        # zero the parameter gradients\n",
    "        optimizer.zero_grad()\n",
    "\n",
    "        # forward + backward + optimize      \n",
    "        outputs = net(inputs)\n",
    "        outputs_reshape = outputs.view(outputs.shape[0],-1)\n",
    "        loss = criterion(outputs_reshape, labels)\n",
    "        loss.backward()\n",
    "        optimizer.step()\n",
    "\n",
    "        # print statistics\n",
    "        running_loss += loss.item()\n",
    "        \n",
    "\n",
    "    print('Epoch %d, Train loss: %.3f' %(epoch + 1, running_loss / 100))\n",
    "            \n",
    "    running_loss = 0.0\n",
    "print('Finished Training')\n",
    "net.eval()"
   ]
  },
  {
   "cell_type": "code",
   "execution_count": 17,
   "id": "d24fe6d9-3504-451c-835e-7ac8d6c5b072",
   "metadata": {},
   "outputs": [
    {
     "name": "stdout",
     "output_type": "stream",
     "text": [
      "[[69.95726013 37.55479431]\n",
      " [28.07333565 35.27100372]\n",
      " [62.07346344 37.50619507]\n",
      " [77.45143127 39.38055801]\n",
      " [34.05956268 37.02601242]\n",
      " [18.72117996 35.79068756]\n",
      " [57.88667679 29.38299751]\n",
      " [85.11143494 32.08039474]\n",
      " [37.19365311 26.54050064]\n",
      " [12.00598717 26.91245079]\n",
      " [47.64434052 56.53550339]\n",
      " [64.46537018 76.36108398]\n",
      " [29.41614914 74.76767731]\n",
      " [46.00572968 70.88349915]\n",
      " [46.04037476 84.64964294]]\n"
     ]
    },
    {
     "data": {
      "image/png": "[encoded data removed]",
      "text/plain": [
       "<Figure size 640x480 with 1 Axes>"
      ]
     },
     "metadata": {},
     "output_type": "display_data"
    }
   ],
   "source": [
    "\n",
    "def get_image_and_keypoints2(series):\n",
    "    image = series['Image']\n",
    "    image = np.fromstring(image, sep=' ').reshape([96, 96]) / 255.0\n",
    "    keypoints = pd.DataFrame(outputs[25].tolist()).values.reshape([15, 2])\n",
    "    print(keypoints)\n",
    "    return image, keypoints\n",
    "\n",
    "def get_image_and_keypoints_by_id2(train_data, id):\n",
    "    series = train_data.iloc[id]\n",
    "    return get_image_and_keypoints2(series)\n",
    "\n",
    "\n",
    "def show_image_with_keypoints2(series):\n",
    "    image, keypoints = get_image_and_keypoints2(series)\n",
    "    plt.imshow(image, cmap='gray')\n",
    "    plt.plot(keypoints[:, 0], keypoints[:, 1], 'rs')\n",
    "\n",
    "\n",
    "def show_image_with_keypoints_by_id2(train_data, id):\n",
    "    series = train_data.iloc[id]\n",
    "    show_image_with_keypoints2(series)\n",
    "    \n",
    "show_image_with_keypoints_by_id2(train_data, 1533)"
   ]
  },
  {
   "cell_type": "markdown",
   "id": "772bd1bd-5429-49ee-a35c-70fdc9f84202",
   "metadata": {},
   "source": [
    "## Predictions"
   ]
  },
  {
   "cell_type": "code",
   "execution_count": 22,
   "id": "dbf3a058-a5b0-4733-bf50-9accc350e396",
   "metadata": {},
   "outputs": [],
   "source": [
    "image_lists = [np.array(list((map(float, test_data.iloc[i, -1].split(' '))))).reshape(96, 96) for i in range(len(test_data))]"
   ]
  },
  {
   "cell_type": "code",
   "execution_count": 29,
   "id": "0e91fe95-00ce-45bf-9864-a48002aa6996",
   "metadata": {},
   "outputs": [],
   "source": [
    "test_images = [np.expand_dims(i,0) for i in image_lists]\n",
    "#test_outputs = [net(torch.Tensor(i)) for i in test_images]\n",
    "test_outputs = [net(torch.Tensor(test_images[i]).unsqueeze(0)) for i in range(200)]"
   ]
  },
  {
   "cell_type": "code",
   "execution_count": 31,
   "id": "4e15214d-8c7c-4cd6-8323-9709f54f3498",
   "metadata": {},
   "outputs": [
    {
     "data": {
      "image/png": "[encoded data removed]",
      "text/plain": [
       "<Figure size 640x480 with 1 Axes>"
      ]
     },
     "metadata": {},
     "output_type": "display_data"
    }
   ],
   "source": [
    "def get_image_and_keypoints2(series,id):\n",
    "    image = series['Image']\n",
    "    image = np.fromstring(image, sep=' ').reshape([96, 96]) / 255.0\n",
    "    keypoints = pd.DataFrame(test_outputs[id].tolist()).values.reshape([15, 2])\n",
    "    return image, keypoints\n",
    "\n",
    "def get_image_and_keypoints_by_id2(test_data, id):\n",
    "    series = test_data.iloc[id]\n",
    "    return get_image_and_keypoints2(series,id)\n",
    "\n",
    "\n",
    "def show_image_with_keypoints2(series,id):\n",
    "    image, keypoints = get_image_and_keypoints2(series,id)\n",
    "    plt.imshow(image, cmap='gray')\n",
    "    plt.plot(keypoints[:, 0], keypoints[:, 1], 'rs')\n",
    "\n",
    "\n",
    "def show_image_with_keypoints_by_id2(test_data, id):\n",
    "    series = test_data.iloc[id]\n",
    "    show_image_with_keypoints2(series,id)\n",
    "    \n",
    "show_image_with_keypoints_by_id2(test_data, 199)"
   ]
  },
  {
   "cell_type": "code",
   "execution_count": null,
   "id": "1bab7de6-5b52-40be-9035-a9a640d5e932",
   "metadata": {},
   "outputs": [],
   "source": []
  },
  {
   "cell_type": "code",
   "execution_count": null,
   "id": "a1785426-b79f-468d-88be-72d8919ea06a",
   "metadata": {},
   "outputs": [],
   "source": []
  },
  {
   "cell_type": "code",
   "execution_count": null,
   "id": "2e528c1b-9d01-4a67-83c8-8e299c06843c",
   "metadata": {},
   "outputs": [],
   "source": []
  }
 ],
 "metadata": {
  "kernelspec": {
   "display_name": "Python 3 (ipykernel)",
   "language": "python",
   "name": "python3"
  },
  "language_info": {
   "codemirror_mode": {
    "name": "ipython",
    "version": 3
   },
   "file_extension": ".py",
   "mimetype": "text/x-python",
   "name": "python",
   "nbconvert_exporter": "python",
   "pygments_lexer": "ipython3",
   "version": "3.7.13"
  },
  "vscode": {
   "interpreter": {
    "hash": "aee8b7b246df8f9039afb4144a1f6fd8d2ca17a180786b69acc140d282b71a49"
   }
  }
 },
 "nbformat": 4,
 "nbformat_minor": 5
}
