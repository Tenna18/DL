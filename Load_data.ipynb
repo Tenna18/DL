{
 "cells": [
  {
   "cell_type": "code",
   "execution_count": 1,
   "id": "e974899b-deed-4864-95ce-849effc05987",
   "metadata": {},
   "outputs": [],
   "source": [
    "import torch\n",
    "import torch.nn as nn\n",
    "import torch.nn.parallel\n",
    "import torch.backends.cudnn as cudnn\n",
    "import torch.optim as optim\n",
    "import torch.utils.data\n",
    "from torch.utils.data import Dataset\n",
    "import torchvision.datasets as dset\n",
    "import torchvision.transforms as transforms\n",
    "import torchvision.utils as vutils\n",
    "import numpy as np\n",
    "import matplotlib.pyplot as plt\n",
    "import matplotlib.animation as animation\n",
    "from IPython.display import HTML\n",
    "import pandas as pd \n",
    "\n",
    "\n",
    "import torch.nn.functional as F"
   ]
  },
  {
   "cell_type": "markdown",
   "id": "1ccbfa8c-9095-40a3-934a-3cf8ea8e8833",
   "metadata": {},
   "source": [
    "## Load data"
   ]
  },
  {
   "cell_type": "code",
   "execution_count": 2,
   "id": "0b039065-319a-4d4f-8208-0a0120b4e4ed",
   "metadata": {},
   "outputs": [],
   "source": [
    "#/Users/laurabraadrasmussen/Documents/UNI/5. semester/Deep Learning/Projekt/Data\n",
    "train_data = pd.read_csv('../Data/training.csv')\n",
    "test_data = pd.read_csv('../Data/test.csv')\n",
    "id_lookup_data = pd.read_csv('../Data/IdLookupTable.csv')\n"
   ]
  },
  {
   "cell_type": "code",
   "execution_count": 3,
   "id": "45470210-ea43-432b-9cc5-461b9360d78b",
   "metadata": {},
   "outputs": [
    {
     "data": {
      "text/plain": [
       "left_eye_center_x                                                    64.332936\n",
       "left_eye_center_y                                                    34.970077\n",
       "right_eye_center_x                                                   29.949277\n",
       "right_eye_center_y                                                   33.448715\n",
       "left_eye_inner_corner_x                                               58.85617\n",
       "left_eye_inner_corner_y                                              35.274349\n",
       "left_eye_outer_corner_x                                              70.722723\n",
       "left_eye_outer_corner_y                                              36.187166\n",
       "right_eye_inner_corner_x                                             36.034723\n",
       "right_eye_inner_corner_y                                             34.361532\n",
       "right_eye_outer_corner_x                                             24.472511\n",
       "right_eye_outer_corner_y                                             33.144443\n",
       "left_eyebrow_inner_end_x                                             53.987404\n",
       "left_eyebrow_inner_end_y                                             28.275949\n",
       "left_eyebrow_outer_end_x                                             78.634213\n",
       "left_eyebrow_outer_end_y                                             30.405923\n",
       "right_eyebrow_inner_end_x                                            42.728851\n",
       "right_eyebrow_inner_end_y                                            26.146043\n",
       "right_eyebrow_outer_end_x                                            16.865362\n",
       "right_eyebrow_outer_end_y                                             27.05886\n",
       "nose_tip_x                                                           48.206298\n",
       "nose_tip_y                                                           55.660936\n",
       "mouth_left_corner_x                                                  56.421447\n",
       "mouth_left_corner_y                                                     76.352\n",
       "mouth_right_corner_x                                                 35.122383\n",
       "mouth_right_corner_y                                                  76.04766\n",
       "mouth_center_top_lip_x                                               46.684596\n",
       "mouth_center_top_lip_y                                               70.266553\n",
       "mouth_center_bottom_lip_x                                            45.467915\n",
       "mouth_center_bottom_lip_y                                             85.48017\n",
       "Image                        219 215 204 196 204 211 212 200 180 168 178 19...\n",
       "Name: 1, dtype: object"
      ]
     },
     "execution_count": 3,
     "metadata": {},
     "output_type": "execute_result"
    }
   ],
   "source": [
    "train_data.iloc[1]"
   ]
  },
  {
   "cell_type": "code",
   "execution_count": 4,
   "id": "17b79c91-7e7f-4377-a0d1-b517905fef13",
   "metadata": {},
   "outputs": [
    {
     "data": {
      "image/png": "[encoded data removed]",
      "text/plain": [
       "<Figure size 640x480 with 1 Axes>"
      ]
     },
     "metadata": {},
     "output_type": "display_data"
    }
   ],
   "source": [
    "def get_image_and_keypoints(series):\n",
    "    image = series['Image']\n",
    "    image = np.fromstring(image, sep=' ').reshape([96, 96]) / 255.0\n",
    "    keypoints = pd.DataFrame(series).drop(['Image'], axis=0).values.reshape([15, 2])\n",
    "    return image, keypoints\n",
    "\n",
    "def get_image_and_keypoints_by_id(train_data, id):\n",
    "    series = train_data.iloc[id]\n",
    "    return get_image_and_keypoints(series)\n",
    "\n",
    "\n",
    "def show_image_with_keypoints(series):\n",
    "    image, keypoints = get_image_and_keypoints(series)\n",
    "    plt.imshow(image, cmap='gray')\n",
    "    plt.plot(keypoints[:, 0], keypoints[:, 1], 'rs')\n",
    "\n",
    "\n",
    "def show_image_with_keypoints_by_id(train_data, id):\n",
    "    series = train_data.iloc[id]\n",
    "    show_image_with_keypoints(series)\n",
    "    \n",
    "show_image_with_keypoints_by_id(train_data, 4)"
   ]
  },
  {
   "cell_type": "markdown",
   "id": "64279b3d-2f53-4fd7-920d-09a477030b92",
   "metadata": {},
   "source": [
    "## Data preprocessing"
   ]
  },
  {
   "cell_type": "code",
   "execution_count": 5,
   "id": "35498135-d49e-4168-a519-a38cb9d4f23b",
   "metadata": {},
   "outputs": [
    {
     "data": {
      "text/plain": [
       "2140"
      ]
     },
     "execution_count": 5,
     "metadata": {},
     "output_type": "execute_result"
    }
   ],
   "source": [
    "# Fjerner NA i dataset\n",
    "train_data = train_data.dropna()\n",
    "len(train_data)"
   ]
  },
  {
   "cell_type": "code",
   "execution_count": 6,
   "id": "b48f31cb-cafd-4298-a7d5-feea8a609266",
   "metadata": {},
   "outputs": [],
   "source": [
    "# 200 random samples\n",
    "train_data_200 = train_data.sample(n = 200)"
   ]
  },
  {
   "cell_type": "code",
   "execution_count": 7,
   "id": "cd880dc2-6b65-4d12-a972-e40216a0db5d",
   "metadata": {},
   "outputs": [],
   "source": [
    "#train_data_200[:1].left_eye_center_x"
   ]
  },
  {
   "cell_type": "code",
   "execution_count": 8,
   "id": "7a63b6ad-7b33-400b-9c44-a083ac0a25a1",
   "metadata": {},
   "outputs": [],
   "source": [
    "#train_data_200.iloc[8]"
   ]
  },
  {
   "cell_type": "markdown",
   "id": "e4d12ee5-6b0b-48c2-8e43-3e6d90bc89ed",
   "metadata": {},
   "source": [
    "\n",
    "## Model"
   ]
  },
  {
   "cell_type": "code",
   "execution_count": 9,
   "id": "0e201f09-f85b-41c7-bfaf-41b6b3f768f2",
   "metadata": {},
   "outputs": [],
   "source": [
    "x_coordinat = []\n",
    "y_coordinat = []\n",
    "\n",
    "for i in range(0,30,2):\n",
    "    x_coordinat.append(train_data_200.iloc[1][i])\n",
    "    y_coordinat.append(train_data_200.iloc[1][i+1])\n"
   ]
  },
  {
   "cell_type": "code",
   "execution_count": 10,
   "id": "65665666-fc57-4517-80b8-59803b0fd536",
   "metadata": {},
   "outputs": [],
   "source": [
    "#make data iterator for spiral dataset\n",
    "\n",
    "class imageDataset(Dataset):\n",
    " \n",
    "  def __init__(self, file_name):\n",
    "    labels=[file_name.iloc[i].values[0:30] for i in range(len(train_data_200))]\n",
    "    inputs=[file_name.iloc[i].values[30:31] for i in range(len(train_data_200))]\n",
    "    \n",
    "    inputs = [(i[0].split()) for i in inputs]\n",
    "    inputs = [[int(i) for i in j] for j in inputs] \n",
    "    inputs = [np.reshape(i, (96,96)) for i in inputs]\n",
    "    inputs = [np.expand_dims(i,0) for i in inputs]\n",
    "    \n",
    "    \n",
    "    \n",
    "    #print(inputs[0])\n",
    "    #print(type(inputs[1]))\n",
    "    self.labels=torch.tensor(labels,dtype=torch.float32) #convert to torch floats otherwise \n",
    "    self.inputs=torch.tensor(inputs, dtype=torch.float) #we will get an error message\n",
    " \n",
    "  def __len__(self):\n",
    "    return len(self.labels)\n",
    "   \n",
    "  def __getitem__(self, idx):\n",
    "    return self.inputs[idx], self.labels[idx]\n",
    "    \n",
    "\n"
   ]
  },
  {
   "cell_type": "code",
   "execution_count": 11,
   "id": "114946a7-1c91-4bc0-a96e-ae771e0b35a9",
   "metadata": {},
   "outputs": [
    {
     "name": "stderr",
     "output_type": "stream",
     "text": [
      "/Users/laurabraadrasmussen/opt/anaconda3/envs/slml/lib/python3.7/site-packages/ipykernel_launcher.py:18: UserWarning: Creating a tensor from a list of numpy.ndarrays is extremely slow. Please consider converting the list to a single numpy.ndarray with numpy.array() before converting to a tensor. (Triggered internally at  /private/var/folders/sy/f16zz6x50xz3113nwtb9bvq00000gp/T/abs_croot-udngs7fm/pytorch_1648016055234/work/torch/csrc/utils/tensor_new.cpp:201.)\n"
     ]
    }
   ],
   "source": [
    "data = imageDataset(train_data_200)"
   ]
  },
  {
   "cell_type": "code",
   "execution_count": 12,
   "id": "1ab67e35-25b4-4cb3-a5d0-9f557ea4e7c6",
   "metadata": {},
   "outputs": [],
   "source": [
    "batch_size = 200\n",
    "#Convert to tensors\n",
    "x_train = data.inputs\n",
    "y_train = data.labels\n",
    "#x_test = torch.tensor(x_test_org)\n",
    "#y_test = torch.tensor(y_test_org)\n",
    "\n",
    "trainset = torch.utils.data.TensorDataset(x_train, y_train)\n",
    "trainloader = torch.utils.data.DataLoader(trainset, batch_size=batch_size, shuffle=True)\n",
    "\n",
    "#testset = torch.utils.data.TensorDataset(x_test, y_test)\n",
    "#testloader = torch.utils.data.DataLoader(testset, batch_size=batch_size)"
   ]
  },
  {
   "cell_type": "code",
   "execution_count": 13,
   "id": "064cc0f1-dc94-4f9b-b56d-9046a5a3a4d4",
   "metadata": {},
   "outputs": [
    {
     "name": "stdout",
     "output_type": "stream",
     "text": [
      "input_shape : torch.Size([1, 96, 96])\n",
      "x_train shape: torch.Size([200, 1, 96, 96])\n",
      "200 train samples\n",
      "y_train shape: torch.Size([200, 30])\n"
     ]
    }
   ],
   "source": [
    "input_shape = x_train[0].shape\n",
    "print('input_shape :',input_shape)\n",
    "\n",
    "print('x_train shape:', x_train.shape)\n",
    "print(x_train.shape[0], 'train samples')\n",
    "#print(x_test.shape[0], 'test samples')\n",
    "\n",
    "# to_categorical converts class indices to one-hot vectors\n",
    "print('y_train shape:', y_train.shape)"
   ]
  },
  {
   "cell_type": "code",
   "execution_count": 14,
   "id": "85f2cee7-d51a-4ccf-b611-8197a7173d80",
   "metadata": {},
   "outputs": [],
   "source": [
    "#%% make network\n",
    "num_classes = 30\n",
    "\n",
    "\n",
    "#something simple like cnn-cnn-fc-relu-fc will do\n",
    "\n",
    "# define network\n",
    "class NeuralNetwork(nn.Module):\n",
    "    def __init__(self):\n",
    "        super().__init__()\n",
    "        self.relu = torch.relu\n",
    "        \n",
    "        self.conv1 = nn.Conv2d(in_channels=1, out_channels=8, kernel_size=3, padding='same')\n",
    "        self.conv2 = nn.Conv2d(in_channels=8, out_channels=256, kernel_size=3, padding='same')\n",
    "        self.fc1 = nn.Linear(256*24*24, 1024)\n",
    "        self.FC1 = nn.Linear(1024, 128)  \n",
    "        self.FC2 = nn.Linear(128, num_classes)  \n",
    "        \n",
    "    def forward(self, x):\n",
    "        x = self.conv1(x)\n",
    "        x = F.relu(x)\n",
    "        x = F.max_pool2d(x, kernel_size=2)\n",
    "    \n",
    "        \n",
    "        x = self.conv2(x)\n",
    "        x = F.relu(x)\n",
    "        x = F.max_pool2d(x, kernel_size=2)\n",
    "        \n",
    "        x = x.view(-1, 256*24*24)\n",
    "        \n",
    "        x = self.fc1(x)\n",
    "        x = F.relu(x)\n",
    " \n",
    "        \n",
    "        x = self.FC1(x)\n",
    "        x = F.relu(x)\n",
    "        x = self.FC2(x)\n",
    "        \n",
    "        return x\n",
    "\n",
    "net = NeuralNetwork()"
   ]
  },
  {
   "cell_type": "code",
   "execution_count": 15,
   "id": "a2184d95-af23-4e16-b793-f5feaea59505",
   "metadata": {},
   "outputs": [
    {
     "name": "stdout",
     "output_type": "stream",
     "text": [
      "Epoch 1, Train loss: 26.650\n",
      "Epoch 2, Train loss: 98330119440957.438\n",
      "Epoch 3, Train loss: 45767797.760\n",
      "Epoch 4, Train loss: 3581.832\n",
      "Epoch 5, Train loss: 127.535\n",
      "Epoch 6, Train loss: 155.650\n",
      "Epoch 7, Train loss: 24.622\n",
      "Epoch 8, Train loss: 23.700\n",
      "Epoch 9, Train loss: 22.626\n",
      "Epoch 10, Train loss: 21.545\n",
      "Epoch 11, Train loss: 20.429\n",
      "Epoch 12, Train loss: 19.302\n",
      "Epoch 13, Train loss: 18.161\n",
      "Epoch 14, Train loss: 17.027\n",
      "Epoch 15, Train loss: 15.941\n",
      "Epoch 16, Train loss: 14.901\n",
      "Epoch 17, Train loss: 13.872\n",
      "Epoch 18, Train loss: 12.848\n",
      "Epoch 19, Train loss: 11.817\n",
      "Epoch 20, Train loss: 10.786\n",
      "Epoch 21, Train loss: 9.757\n",
      "Epoch 22, Train loss: 8.735\n",
      "Epoch 23, Train loss: 7.730\n",
      "Epoch 24, Train loss: 6.762\n",
      "Epoch 25, Train loss: 5.853\n",
      "Epoch 26, Train loss: 5.037\n",
      "Epoch 27, Train loss: 4.350\n",
      "Epoch 28, Train loss: 3.837\n",
      "Epoch 29, Train loss: 3.538\n",
      "Epoch 30, Train loss: 3.483\n",
      "Finished Training\n"
     ]
    },
    {
     "data": {
      "text/plain": [
       "NeuralNetwork(\n",
       "  (conv1): Conv2d(1, 8, kernel_size=(3, 3), stride=(1, 1), padding=same)\n",
       "  (conv2): Conv2d(8, 256, kernel_size=(3, 3), stride=(1, 1), padding=same)\n",
       "  (fc1): Linear(in_features=147456, out_features=1024, bias=True)\n",
       "  (FC1): Linear(in_features=1024, out_features=128, bias=True)\n",
       "  (FC2): Linear(in_features=128, out_features=30, bias=True)\n",
       ")"
      ]
     },
     "execution_count": 15,
     "metadata": {},
     "output_type": "execute_result"
    }
   ],
   "source": [
    "#criterion = nn.CrossEntropyLoss()\n",
    "criterion = nn.MSELoss()\n",
    "#optimizer = optim.SGD(fcn.parameters(), lr=0.1)\n",
    "optimizer = optim.Adam(net.parameters(), lr=0.1)\n",
    "#scheduler = torch.optim.lr_scheduler.StepLR(optimizer, step_size=2, gamma=0.5) # decrease LR every two steps\n",
    "\n",
    "nEpocs = 30 # How many times should we run over the data set?\n",
    "totaliter = 0\n",
    "net.train()\n",
    "for epoch in range(nEpocs):  # loop over the dataset multiple times\n",
    "    #print('epoch',epoch)\n",
    "    running_loss = 0.0\n",
    "    \n",
    "    #scheduler.step()\n",
    "    \n",
    "    for i, data in enumerate(trainloader, 0):\n",
    "        totaliter+=1\n",
    "        \n",
    "        # get the inputs; data is a list of [inputs, labels]\n",
    "        inputs, labels = data\n",
    "\n",
    "        # zero the parameter gradients\n",
    "        optimizer.zero_grad()\n",
    "\n",
    "        # forward + backward + optimize      \n",
    "        outputs = net(inputs)\n",
    "        outputs_reshape = outputs.view(outputs.shape[0],-1)\n",
    "        loss = criterion(outputs_reshape, labels)\n",
    "        loss.backward()\n",
    "        optimizer.step()\n",
    "\n",
    "        # print statistics\n",
    "        running_loss += loss.item()\n",
    "        \n",
    "\n",
    "    print('Epoch %d, Train loss: %.3f' %(epoch + 1, running_loss / 100))\n",
    "            \n",
    "    running_loss = 0.0\n",
    "print('Finished Training')\n",
    "net.eval()"
   ]
  },
  {
   "cell_type": "code",
   "execution_count": 25,
   "id": "203f92f4-918a-4bd3-95a9-49ac71726b64",
   "metadata": {},
   "outputs": [
    {
     "data": {
      "text/plain": [
       "left_eye_center_x                                                    64.152828\n",
       "left_eye_center_y                                                    37.754152\n",
       "right_eye_center_x                                                   30.024166\n",
       "right_eye_center_y                                                   35.449821\n",
       "left_eye_inner_corner_x                                              57.096828\n",
       "left_eye_inner_corner_y                                              39.770152\n",
       "left_eye_outer_corner_x                                               73.59989\n",
       "left_eye_outer_corner_y                                              39.069683\n",
       "right_eye_inner_corner_x                                             38.676745\n",
       "right_eye_inner_corner_y                                             37.658483\n",
       "right_eye_outer_corner_x                                             21.095834\n",
       "right_eye_outer_corner_y                                             35.017821\n",
       "left_eyebrow_inner_end_x                                             56.717793\n",
       "left_eyebrow_inner_end_y                                             33.714869\n",
       "left_eyebrow_outer_end_x                                              80.71349\n",
       "left_eyebrow_outer_end_y                                             30.553821\n",
       "right_eyebrow_inner_end_x                                            41.664331\n",
       "right_eyebrow_inner_end_y                                            32.927669\n",
       "right_eyebrow_outer_end_x                                            13.463834\n",
       "right_eyebrow_outer_end_y                                            27.961821\n",
       "nose_tip_x                                                           48.888497\n",
       "nose_tip_y                                                           63.242483\n",
       "mouth_left_corner_x                                                  61.128828\n",
       "mouth_left_corner_y                                                  75.770814\n",
       "mouth_right_corner_x                                                 27.288166\n",
       "mouth_right_corner_y                                                 73.466814\n",
       "mouth_center_top_lip_x                                               46.296497\n",
       "mouth_center_top_lip_y                                               73.898814\n",
       "mouth_center_bottom_lip_x                                            45.432497\n",
       "mouth_center_bottom_lip_y                                            79.803145\n",
       "Image                        24 22 17 20 22 22 22 22 20 18 17 18 17 14 18 2...\n",
       "Name: 1533, dtype: object"
      ]
     },
     "execution_count": 25,
     "metadata": {},
     "output_type": "execute_result"
    }
   ],
   "source": [
    "train_data_200.iloc[43]"
   ]
  },
  {
   "cell_type": "code",
   "execution_count": 26,
   "id": "3d77f943-36d3-456f-b70e-67187b5bb3b3",
   "metadata": {},
   "outputs": [
    {
     "data": {
      "image/png": "[encoded data removed]",
      "text/plain": [
       "<Figure size 640x480 with 1 Axes>"
      ]
     },
     "metadata": {},
     "output_type": "display_data"
    }
   ],
   "source": [
    "show_image_with_keypoints_by_id(train_data,1533)"
   ]
  },
  {
   "cell_type": "code",
   "execution_count": 27,
   "id": "d24fe6d9-3504-451c-835e-7ac8d6c5b072",
   "metadata": {},
   "outputs": [
    {
     "name": "stdout",
     "output_type": "stream",
     "text": [
      "[[48.96606827 46.41856766]\n",
      " [51.56332016 47.40408707]\n",
      " [50.65659714 48.29874039]\n",
      " [49.85879135 48.41387939]\n",
      " [49.98497009 43.80068588]\n",
      " [46.97743988 47.28995132]\n",
      " [49.30270767 48.82031631]\n",
      " [47.83473206 48.00046539]\n",
      " [51.10554123 46.86652756]\n",
      " [50.23408508 48.38768387]\n",
      " [49.5620842  51.96303177]\n",
      " [52.04925537 50.78054428]\n",
      " [47.14635468 47.02243423]\n",
      " [44.30102539 48.33444595]\n",
      " [49.72650146 47.40261459]]\n"
     ]
    },
    {
     "data": {
      "image/png": "[encoded data removed]",
      "text/plain": [
       "<Figure size 640x480 with 1 Axes>"
      ]
     },
     "metadata": {},
     "output_type": "display_data"
    }
   ],
   "source": [
    "\n",
    "def get_image_and_keypoints2(series):\n",
    "    image = series['Image']\n",
    "    image = np.fromstring(image, sep=' ').reshape([96, 96]) / 255.0\n",
    "    keypoints = pd.DataFrame(outputs[43].tolist()).values.reshape([15, 2])\n",
    "    print(keypoints)\n",
    "    return image, keypoints\n",
    "\n",
    "def get_image_and_keypoints_by_id2(train_data, id):\n",
    "    series = train_data.iloc[id]\n",
    "    return get_image_and_keypoints2(series)\n",
    "\n",
    "\n",
    "def show_image_with_keypoints2(series):\n",
    "    image, keypoints = get_image_and_keypoints2(series)\n",
    "    plt.imshow(image, cmap='gray')\n",
    "    plt.plot(keypoints[:, 0], keypoints[:, 1], 'rs')\n",
    "\n",
    "\n",
    "def show_image_with_keypoints_by_id2(train_data, id):\n",
    "    series = train_data.iloc[id]\n",
    "    show_image_with_keypoints2(series)\n",
    "    \n",
    "show_image_with_keypoints_by_id2(train_data, 1533)"
   ]
  }
 ],
 "metadata": {
  "kernelspec": {
   "display_name": "Python 3 (ipykernel)",
   "language": "python",
   "name": "python3"
  },
  "language_info": {
   "codemirror_mode": {
    "name": "ipython",
    "version": 3
   },
   "file_extension": ".py",
   "mimetype": "text/x-python",
   "name": "python",
   "nbconvert_exporter": "python",
   "pygments_lexer": "ipython3",
   "version": "3.10.2"
  },
  "vscode": {
   "interpreter": {
    "hash": "aee8b7b246df8f9039afb4144a1f6fd8d2ca17a180786b69acc140d282b71a49"
   }
  }
 },
 "nbformat": 4,
 "nbformat_minor": 5
}
